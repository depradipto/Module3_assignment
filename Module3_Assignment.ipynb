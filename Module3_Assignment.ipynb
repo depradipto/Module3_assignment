{
  "nbformat": 4,
  "nbformat_minor": 0,
  "metadata": {
    "colab": {
      "provenance": []
    },
    "kernelspec": {
      "name": "python3",
      "display_name": "Python 3"
    },
    "language_info": {
      "name": "python"
    }
  },
  "cells": [
    {
      "cell_type": "code",
      "execution_count": null,
      "metadata": {
        "id": "a0l05ORJIuC7"
      },
      "outputs": [],
      "source": []
    },
    {
      "cell_type": "markdown",
      "source": [
        "1. What are data structures, and why are they important?\n",
        "   - Data structures are special formats use to store, organize and access data.\n",
        "   They are importanat because they hold data and determine how to interact.\n",
        "\n",
        "2. Explain the difference between mutable and immutable data types with\n",
        " examples.\n",
        "   - Mutable data types can change its value, from integer to float. a=5 is an integer but if we make it float(a) the value changes to 5.0 which is float value.\n",
        "   Immutable data stypes cannot change its value, like a string which cannot be changed a=\"Batman\", we cannot change a[0] to 'R'as strings are not mutable.\n",
        "\n",
        "3. What are the main differences between lists and tuples in Python?\n",
        "  - Lists are mutable data structures. Exapmle : a=[a,b,c]; a[1]=\"f\", this changes list from a[a,b,c] to a[a,f,c].\n",
        "  Tuples are immutable data structures. For example b=(n,m,k), b[2]=q it will show error as tuple is an immutable data structure.\n",
        "\n",
        "4. Describe how dictionaries store data?\n",
        " - Dictionaries make storage blocks and store data whithout an index or unordered sequence.\n",
        "\n",
        "5. Why might you use a set instead of a list in Python?\n",
        " - In cases of membership check on emight use set instead of a list in pyhton.Also dictionaries can store other dictionaries.\n",
        "\n",
        "6. What is a string in Python, and how is it different from a list?\n",
        " - A string in a python is a data type like a=\"Pwsjills\" and list is a data structure example b=('aj' ,'bj' ,1 ).\n",
        "\n",
        "7. How do tuples ensure data integrity in Python?\n",
        " - Tuples ensure data integrity in python by not allowing to change, replace or remove its assigned data. Which is why it can also be used in a set.\n",
        "\n",
        "8. What is a hash table, and how does it relate to dictionaries in Python?\n",
        " - Hash is not a key, it gives index value to dictionaries.\n",
        "\n",
        "9. Can lists contain different data types in Python?\n",
        " - yes, lists can contain different data types in python.\n",
        "\n",
        "10. Explain why strings are immutable in Python?\n",
        " - Strings are immutable in pyhton due to data integrity. Since strings can also be used as keys.\n",
        "\n",
        "11. What advantages do dictionaries offer over lists for certain tasks ?\n",
        " - Dictionaries can store other dictionaries, unique keys and allow memebership check.\n",
        "\n",
        "12. How do sets handle duplicate values in Python?\n",
        " - Sets cancel the duplicate value, untill the duplicate value has some cahnge of upper or lower case.\n",
        "\n",
        "13. Describe a scenario where using a tuple would be preferable over a list?\n",
        " -  When we want to assign a key to a set we can use tuple but not a list. As tuples are immutable.\n",
        "\n",
        "14. How does the “in” keyword work differently for lists and dictionaries?\n",
        " -  \n",
        "15. Can you modify the elements of a tuple? Explain why or why not?\n",
        " - We cannot modify elements in a tuple.\n",
        "   We cannot modify elemnts in a tuple as items assigned to a tuple are immutable.\n",
        "\n",
        "16.  What is a nested dictionary, and give an example of its use case?\n",
        " - Nested directory stores another dictionary as a value.\n",
        "   boyfriends= [\"Ajay\", \"Vijay\", \"Sujay\"]\n",
        "   girlfrieds= [\"Rima\",\"Seema\", \"Beena\"]\n",
        "   {boyfriends:girlfriends for boyfriends, girlfriends in zip(boyfriend, girlfriends)}\n",
        "\n",
        "17. Describe the time complexity of accessing elements in a dictionary?\n",
        " -  It is less time complex in dictionary.\n",
        "\n",
        "18. In what situations are lists preferred over dictionaries.\n",
        " - Lists allow duplictaes and has index or orderder values.\n",
        "\n",
        "19. Why are dictionaries considered unordered, and how does that affect data retrieval?\n",
        " - Dictionaries are considered unordered as the values assigned to a particular dictionary has no index value.\n",
        " It affects data retrieval as data cannot be called out and changed vua index number and while assigning a data to a given dictionnary, the data can get assigned any where in the ggiven set of dictionary.\n",
        "\n",
        "20. Explain the difference between a list and a dictionary in terms of data retrieval.\n",
        " - In a list we can seperately and easily call out a data by its index number and can change its value. While in dictionaries we will have to remove a key then add a new desired key with value, this addition doesnot take place in the previous position but at the end.\n",
        " example a={'name' : 'Raj', 'sport': 'football'}\n",
        " a.pop('name')\n",
        " Raj\n",
        " a['game']='fifa'\n",
        " a\n",
        " {sport: football, game: fifa}"
      ],
      "metadata": {
        "id": "Rd4V2ZHGIyvC"
      }
    },
    {
      "cell_type": "code",
      "source": [
        "#Write a code to create a string with your name and print it.\n",
        "a=str(input('enter your name'))\n",
        "b=str(input('enter your surname'))\n",
        "print (a,b)"
      ],
      "metadata": {
        "id": "5vYrrGNRivis",
        "colab": {
          "base_uri": "https://localhost:8080/"
        },
        "outputId": "3a5490e4-59b3-4917-8229-8cc920f3fa22"
      },
      "execution_count": 4,
      "outputs": [
        {
          "output_type": "stream",
          "name": "stdout",
          "text": [
            "enter your namePradipto\n",
            "enter your surnameDe\n",
            "Pradipto De\n"
          ]
        }
      ]
    },
    {
      "cell_type": "code",
      "source": [
        "#Write a code to find the length of the string \"Hello World\"\n",
        "c='Hello World'\n",
        "len(c)"
      ],
      "metadata": {
        "colab": {
          "base_uri": "https://localhost:8080/"
        },
        "id": "A6OoKBEvI5ze",
        "outputId": "46ed7ca9-8fe7-40c0-b693-a314b4f10368"
      },
      "execution_count": 5,
      "outputs": [
        {
          "output_type": "execute_result",
          "data": {
            "text/plain": [
              "11"
            ]
          },
          "metadata": {},
          "execution_count": 5
        }
      ]
    },
    {
      "cell_type": "code",
      "source": [
        "#Write a code to slice the first 3 characters from the string \"Python Programming\".\n",
        "d='Python Programming'\n",
        "d[0:3]"
      ],
      "metadata": {
        "colab": {
          "base_uri": "https://localhost:8080/",
          "height": 36
        },
        "id": "ygBeWxPfJvVd",
        "outputId": "55812973-0cd8-4341-e669-590efd237950"
      },
      "execution_count": 39,
      "outputs": [
        {
          "output_type": "execute_result",
          "data": {
            "text/plain": [
              "'Pyt'"
            ],
            "application/vnd.google.colaboratory.intrinsic+json": {
              "type": "string"
            }
          },
          "metadata": {},
          "execution_count": 39
        }
      ]
    },
    {
      "cell_type": "code",
      "source": [
        "#Write a code to convert the string \"hello\" to uppercase\n",
        "e='hello'\n",
        "e.upper()"
      ],
      "metadata": {
        "colab": {
          "base_uri": "https://localhost:8080/",
          "height": 36
        },
        "id": "2gK6ExfeJ-UQ",
        "outputId": "6bb33927-7149-4ac2-e74e-83a70d2349eb"
      },
      "execution_count": 8,
      "outputs": [
        {
          "output_type": "execute_result",
          "data": {
            "text/plain": [
              "'HELLO'"
            ],
            "application/vnd.google.colaboratory.intrinsic+json": {
              "type": "string"
            }
          },
          "metadata": {},
          "execution_count": 8
        }
      ]
    },
    {
      "cell_type": "code",
      "source": [
        "#Write a code to replace the word \"apple\" with \"orange\" in the string \"I like apple\"\n",
        "f='I like apple'\n",
        "f.replace('apple','orange')"
      ],
      "metadata": {
        "colab": {
          "base_uri": "https://localhost:8080/",
          "height": 36
        },
        "id": "mV5fV7_vKNKo",
        "outputId": "5813281a-83b2-42a4-f1b7-1f4f030e5c60"
      },
      "execution_count": 9,
      "outputs": [
        {
          "output_type": "execute_result",
          "data": {
            "text/plain": [
              "'I like orange'"
            ],
            "application/vnd.google.colaboratory.intrinsic+json": {
              "type": "string"
            }
          },
          "metadata": {},
          "execution_count": 9
        }
      ]
    },
    {
      "cell_type": "code",
      "source": [
        "#Write a code to create a list with numbers 1 to 5 and print it.\n",
        "g=[1,2,3,4,5]\n",
        "print(g)"
      ],
      "metadata": {
        "colab": {
          "base_uri": "https://localhost:8080/"
        },
        "id": "F82iS382Kg0b",
        "outputId": "b3571b45-477e-4318-f25b-d436e66944c9"
      },
      "execution_count": 10,
      "outputs": [
        {
          "output_type": "stream",
          "name": "stdout",
          "text": [
            "[1, 2, 3, 4, 5]\n"
          ]
        }
      ]
    },
    {
      "cell_type": "code",
      "source": [
        "#Write a code to append the number 10 to the list [1, 2, 3, 4]\n",
        "h=[1,2,3,4]\n",
        "h.append(10)\n",
        "print(h)"
      ],
      "metadata": {
        "colab": {
          "base_uri": "https://localhost:8080/"
        },
        "id": "KG_24FGFKqru",
        "outputId": "4e1d903c-e6bc-426d-eaa2-1d2478079d6a"
      },
      "execution_count": 11,
      "outputs": [
        {
          "output_type": "stream",
          "name": "stdout",
          "text": [
            "[1, 2, 3, 4, 10]\n"
          ]
        }
      ]
    },
    {
      "cell_type": "code",
      "source": [
        "#Write a code to remove the number 3 from the list [1, 2, 3, 4, 5]\n",
        "i=[1,2,3,4,5]\n",
        "i.remove(3)\n",
        "print(i)"
      ],
      "metadata": {
        "colab": {
          "base_uri": "https://localhost:8080/"
        },
        "id": "GnQFreMrKwDr",
        "outputId": "00d82bff-77d6-498a-ae0b-2c679b5b1207"
      },
      "execution_count": 12,
      "outputs": [
        {
          "output_type": "stream",
          "name": "stdout",
          "text": [
            "[1, 2, 4, 5]\n"
          ]
        }
      ]
    },
    {
      "cell_type": "code",
      "source": [
        "#Write a code to access the second element in the list ['a', 'b', 'c', 'd'].\n",
        "j=['a','b','c','d']\n",
        "j[1]\n"
      ],
      "metadata": {
        "colab": {
          "base_uri": "https://localhost:8080/",
          "height": 36
        },
        "id": "yu0UtfgBK1h3",
        "outputId": "f388614b-2df5-4cec-ef78-19518db3faef"
      },
      "execution_count": 18,
      "outputs": [
        {
          "output_type": "execute_result",
          "data": {
            "text/plain": [
              "'b'"
            ],
            "application/vnd.google.colaboratory.intrinsic+json": {
              "type": "string"
            }
          },
          "metadata": {},
          "execution_count": 18
        }
      ]
    },
    {
      "cell_type": "code",
      "source": [
        "#Write a code to reverse the list [10, 20, 30, 40, 50].\n",
        "k=[10,20,30,40,50]\n",
        "k.reverse()\n",
        "print(k)"
      ],
      "metadata": {
        "colab": {
          "base_uri": "https://localhost:8080/"
        },
        "id": "G6Ds6TAELHCS",
        "outputId": "9a22292a-e312-4418-8b4f-8a51a05b2b2c"
      },
      "execution_count": 41,
      "outputs": [
        {
          "output_type": "stream",
          "name": "stdout",
          "text": [
            "[50, 40, 30, 20, 10]\n"
          ]
        }
      ]
    },
    {
      "cell_type": "code",
      "source": [
        "# Write a code to create a tuple with the elements 10, 20, 30 and print it.\n",
        "l=(10,20,30)\n",
        "print(l)"
      ],
      "metadata": {
        "colab": {
          "base_uri": "https://localhost:8080/"
        },
        "id": "pe6kxd7pMEBa",
        "outputId": "807128bf-4639-4fba-8e72-fed393b48a3f"
      },
      "execution_count": 42,
      "outputs": [
        {
          "output_type": "stream",
          "name": "stdout",
          "text": [
            "(10, 20, 30)\n"
          ]
        }
      ]
    },
    {
      "cell_type": "code",
      "source": [
        "#Write a code to access the first element of the tuple ('apple', 'banana', 'cherry').\n",
        "m=('apple','banana','cherry')\n",
        "m[0]\n"
      ],
      "metadata": {
        "colab": {
          "base_uri": "https://localhost:8080/",
          "height": 36
        },
        "id": "Mf7RGQ9lO5vk",
        "outputId": "0c400dc2-7a38-46f0-8de4-6650a86582a6"
      },
      "execution_count": 45,
      "outputs": [
        {
          "output_type": "execute_result",
          "data": {
            "text/plain": [
              "'apple'"
            ],
            "application/vnd.google.colaboratory.intrinsic+json": {
              "type": "string"
            }
          },
          "metadata": {},
          "execution_count": 45
        }
      ]
    },
    {
      "cell_type": "code",
      "source": [
        "#Write a code to count how many times the number 2 appears in the tuple (1, 2, 3, 2, 4, 2).\n",
        "n=(1,2,3,2,4,2)\n",
        "n.count(2)"
      ],
      "metadata": {
        "colab": {
          "base_uri": "https://localhost:8080/"
        },
        "id": "gsPwR-qLPD0H",
        "outputId": "eabc0803-a0fe-48cd-f756-bd62d87182f9"
      },
      "execution_count": 46,
      "outputs": [
        {
          "output_type": "execute_result",
          "data": {
            "text/plain": [
              "3"
            ]
          },
          "metadata": {},
          "execution_count": 46
        }
      ]
    },
    {
      "cell_type": "code",
      "source": [
        "#Write a code to find the index of the element \"cat\" in the tuple ('dog', 'cat', 'rabbit').\n",
        "o=('dog','cat','rabbit')\n",
        "o.index('cat')"
      ],
      "metadata": {
        "colab": {
          "base_uri": "https://localhost:8080/"
        },
        "id": "lxPEoRljPbEK",
        "outputId": "d70f7ccc-3694-4a3b-ece6-f05f1836f563"
      },
      "execution_count": 47,
      "outputs": [
        {
          "output_type": "execute_result",
          "data": {
            "text/plain": [
              "1"
            ]
          },
          "metadata": {},
          "execution_count": 47
        }
      ]
    },
    {
      "cell_type": "code",
      "source": [
        "#Write a code to check if the element \"banana\" is in the tuple ('apple', 'orange', 'banana').\n",
        "p=('apple','orange','banana')\n",
        "'banana' in p"
      ],
      "metadata": {
        "colab": {
          "base_uri": "https://localhost:8080/"
        },
        "id": "BX4KGvd5Pk3e",
        "outputId": "97b05934-f03d-4483-8ff9-0c8406419600"
      },
      "execution_count": 48,
      "outputs": [
        {
          "output_type": "execute_result",
          "data": {
            "text/plain": [
              "True"
            ]
          },
          "metadata": {},
          "execution_count": 48
        }
      ]
    },
    {
      "cell_type": "code",
      "source": [
        "# Write a code to create a set with the elements 1, 2, 3, 4, 5 and print it.\n",
        "q={1,2,3,4,5}\n",
        "print(q)"
      ],
      "metadata": {
        "colab": {
          "base_uri": "https://localhost:8080/"
        },
        "id": "5A9AFwK-Pr4T",
        "outputId": "87ac200b-ddb1-4f8b-a589-349010bcca94"
      },
      "execution_count": 49,
      "outputs": [
        {
          "output_type": "stream",
          "name": "stdout",
          "text": [
            "{1, 2, 3, 4, 5}\n"
          ]
        }
      ]
    },
    {
      "cell_type": "code",
      "source": [
        "#Write a code to add the element 6 to the set {1, 2, 3, 4}.\n",
        "r={1,2,3,4}\n",
        "r.add(6)\n",
        "print(r)"
      ],
      "metadata": {
        "colab": {
          "base_uri": "https://localhost:8080/"
        },
        "id": "nrtl-RvkP3Ap",
        "outputId": "6f75f197-55c3-4c3c-a676-1abacbdd9300"
      },
      "execution_count": 58,
      "outputs": [
        {
          "output_type": "stream",
          "name": "stdout",
          "text": [
            "{1, 2, 3, 4, 6}\n"
          ]
        }
      ]
    },
    {
      "cell_type": "code",
      "source": [
        "#Write a code to create a tuple with the elements 10, 20, 30 and print it.\n",
        "s=(10,20,30)\n",
        "print(s)"
      ],
      "metadata": {
        "colab": {
          "base_uri": "https://localhost:8080/"
        },
        "id": "Yv8YBh5qQBV-",
        "outputId": "edd46e81-669c-4a20-ea76-b2dbfa8e69a4"
      },
      "execution_count": 59,
      "outputs": [
        {
          "output_type": "stream",
          "name": "stdout",
          "text": [
            "(10, 20, 30)\n"
          ]
        }
      ]
    },
    {
      "cell_type": "code",
      "source": [
        "# Write a code to access the first element of the tuple ('apple', 'banana', 'cherry').\n",
        "t=('apple', 'banana','cherry')\n",
        "t[0]"
      ],
      "metadata": {
        "colab": {
          "base_uri": "https://localhost:8080/",
          "height": 36
        },
        "id": "Nf-A7mxUQgqI",
        "outputId": "dcc1d8d4-d4aa-45d4-9c82-26cde9d2bffe"
      },
      "execution_count": 60,
      "outputs": [
        {
          "output_type": "execute_result",
          "data": {
            "text/plain": [
              "'apple'"
            ],
            "application/vnd.google.colaboratory.intrinsic+json": {
              "type": "string"
            }
          },
          "metadata": {},
          "execution_count": 60
        }
      ]
    },
    {
      "cell_type": "code",
      "source": [
        "#Write a code to count how many times the number 2 appears in the tuple (1, 2, 3, 2, 4, 2).\n",
        "u=(1,2,3,2,4,2)\n",
        "u.count(2)"
      ],
      "metadata": {
        "colab": {
          "base_uri": "https://localhost:8080/"
        },
        "id": "cVcz_8cCQuHF",
        "outputId": "9b3b9794-7aa1-491e-d4de-76edfcf8f8e0"
      },
      "execution_count": 65,
      "outputs": [
        {
          "output_type": "execute_result",
          "data": {
            "text/plain": [
              "3"
            ]
          },
          "metadata": {},
          "execution_count": 65
        }
      ]
    },
    {
      "cell_type": "code",
      "source": [
        "#Write a code to find the index of the element \"cat\" in the tuple ('dog', 'cat', 'rabbit').\n",
        "v=('dog','cat','rabbit')\n",
        "v.index('cat')"
      ],
      "metadata": {
        "colab": {
          "base_uri": "https://localhost:8080/"
        },
        "id": "KxRiYch6Q5Jw",
        "outputId": "7ff9b367-b99f-46dd-eedd-90b020b3ce90"
      },
      "execution_count": 66,
      "outputs": [
        {
          "output_type": "execute_result",
          "data": {
            "text/plain": [
              "1"
            ]
          },
          "metadata": {},
          "execution_count": 66
        }
      ]
    },
    {
      "cell_type": "code",
      "source": [
        "#. Write a code to check if the element \"banana\" is in the tuple ('apple', 'orange', 'banana').\n",
        "w=('apple','orange','banana')\n",
        "'banana' in w"
      ],
      "metadata": {
        "colab": {
          "base_uri": "https://localhost:8080/"
        },
        "id": "IWhyxWkwRZ6A",
        "outputId": "2f328739-abed-47a4-8163-d749d5a9c06c"
      },
      "execution_count": 67,
      "outputs": [
        {
          "output_type": "execute_result",
          "data": {
            "text/plain": [
              "True"
            ]
          },
          "metadata": {},
          "execution_count": 67
        }
      ]
    },
    {
      "cell_type": "code",
      "source": [
        "#Write a code to create a set with the elements 1, 2, 3, 4, 5 and print it.\n",
        "x={1,2,3,4,5,6}\n",
        "print(x)"
      ],
      "metadata": {
        "colab": {
          "base_uri": "https://localhost:8080/"
        },
        "id": "2moaFW2PRe1E",
        "outputId": "9f3cb676-ca35-42a8-a400-51379a4fe60d"
      },
      "execution_count": 68,
      "outputs": [
        {
          "output_type": "stream",
          "name": "stdout",
          "text": [
            "{1, 2, 3, 4, 5, 6}\n"
          ]
        }
      ]
    },
    {
      "cell_type": "code",
      "source": [
        "#Write a code to add the element 6 to the set {1, 2, 3, 4}\n",
        "y={1,2,3,4}\n",
        "y.add(6)\n",
        "print (y)"
      ],
      "metadata": {
        "colab": {
          "base_uri": "https://localhost:8080/"
        },
        "id": "J69DFaVKRqPC",
        "outputId": "7d21a13e-e695-4074-9966-548313908956"
      },
      "execution_count": 69,
      "outputs": [
        {
          "output_type": "stream",
          "name": "stdout",
          "text": [
            "{1, 2, 3, 4, 6}\n"
          ]
        }
      ]
    },
    {
      "cell_type": "code",
      "source": [],
      "metadata": {
        "id": "d5A3lFzOR4C3"
      },
      "execution_count": null,
      "outputs": []
    }
  ]
}